{
 "cells": [
  {
   "cell_type": "code",
   "execution_count": 7,
   "metadata": {
    "colab": {
     "base_uri": "https://localhost:8080/"
    },
    "id": "CY0tpaYjIFn8",
    "outputId": "20e8d3d3-21f5-4752-a87e-614816191655"
   },
   "outputs": [
    {
     "name": "stdout",
     "output_type": "stream",
     "text": [
      "       Price Mileage  Sales\n",
      "min  15000.0     6.0  170.0\n",
      "25%  20000.0    12.0  210.0\n",
      "50%  22500.0    15.0  227.5\n",
      "75%  25000.0    18.0  245.0\n",
      "max  30000.0    21.0  290.0\n",
      "210.0\n",
      "For sales:  Min: 170.00, Q1: 210.00, Median: 227.5, Q3: 245.0, Max: 290\n"
     ]
    }
   ],
   "source": [
    "#five number summary\n",
    "\n",
    "#using pandas\n",
    "import pandas as pd\n",
    "df = pd.read_excel('carM.xlsx',sheet_name=\"carM\")\n",
    "five_num_summary = df.describe().loc[['min', '25%', '50%', '75%', 'max']]\n",
    "#location of specific rows and columns\n",
    "five_num_summary=five_num_summary.applymap(lambda x:f\"{x:.1f}\")\n",
    "print(five_num_summary)\n",
    "\n",
    "#hardcode\n",
    "min_value = df['Sales'].min()\n",
    "\n",
    "q1 = df['Sales'].quantile(0.25)\n",
    "\n",
    "median = df['Sales'].median()\n",
    "\n",
    "q3 = df['Sales'].quantile(0.75)\n",
    "\n",
    "max_value = df['Sales'].max()\n",
    "\n",
    "print(\"For sales: \", f\"Min: {min_value:.2f}, Q1: {q1:.2f}, Median: {median}, Q3: {q3}, Max: {max_value}\")\n",
    "\n"
   ]
  },
  {
   "cell_type": "code",
   "execution_count": 14,
   "metadata": {
    "colab": {
     "base_uri": "https://localhost:8080/",
     "height": 703
    },
    "id": "g6FEWmGtKrXk",
    "outputId": "94b767d2-417a-4f05-912b-003b9e216a01"
   },
   "outputs": [
    {
     "data": {
      "image/png": "[encoded data removed]",
      "text/plain": [
       "<Figure size 800x600 with 1 Axes>"
      ]
     },
     "metadata": {},
     "output_type": "display_data"
    },
    {
     "name": "stdout",
     "output_type": "stream",
     "text": [
      "\n",
      "Five Number Summary for 'Mileage':\n",
      "min     6.0\n",
      "25%    12.0\n",
      "50%    15.0\n",
      "75%    18.0\n",
      "max    21.0\n",
      "Name: Mileage, dtype: float64\n"
     ]
    },
    {
     "data": {
      "image/png": "[encoded data removed]",
      "text/plain": [
       "<Figure size 400x400 with 1 Axes>"
      ]
     },
     "metadata": {},
     "output_type": "display_data"
    }
   ],
   "source": [
    "import matplotlib.pyplot as plt\n",
    "import pandas as pd\n",
    "\n",
    "\n",
    "df = pd.read_excel('carM.xlsx',sheet_name=\"carM\")\n",
    "\n",
    "\n",
    "plt.figure(figsize=(8, 6))\n",
    "plt.boxplot(df['Mileage'], patch_artist=True, boxprops=dict(facecolor='lightyellow', color='black'),\n",
    "            medianprops=dict(color='red', linewidth=2))\n",
    "plt.title('Box Plot of Mileage ')\n",
    "plt.xlabel('Mileage')\n",
    "plt.show()\n",
    "\n",
    "five_num_mileage = df['Mileage'].describe()[['min', '25%', '50%', '75%', 'max']]\n",
    "\n",
    "print(\"\\nFive Number Summary for 'Mileage':\")\n",
    "print(five_num_mileage)\n",
    "\n",
    "plt.figure(figsize=(4,4))\n",
    "plt.boxplot(df['Sales'],patch_artist=True,boxprops=dict(facecolor='lightgreen',color='black'),\n",
    "           medianprops=dict(color='red',linewidth=3))\n",
    "plt.show()\n"
   ]
  },
  {
   "cell_type": "code",
   "execution_count": null,
   "metadata": {
    "colab": {
     "base_uri": "https://localhost:8080/"
    },
    "id": "g304hFwHMvqv",
    "outputId": "e3838b0a-0058-49f3-c18e-5bf6a4da831d"
   },
   "outputs": [
    {
     "name": "stdout",
     "output_type": "stream",
     "text": [
      "Dataset:\n",
      "   Mileage (km/l)  Price (lakhs)  Sales (units)\n",
      "0              15            5.0            250\n",
      "1              12            7.5            200\n",
      "2              18            4.5            300\n",
      "3              14            6.0            180\n",
      "4              16            8.0            220\n",
      "5              10            9.5            150\n",
      "6              13            7.0            210\n",
      "7              17            5.5            270\n",
      "8              11            6.5            190\n",
      "9              19            4.0            320\n",
      "\n",
      "\n",
      "Covariance Results:\n",
      "Covariance between Price and Mileage (Manual): -3.97\n",
      "Covariance between Price and Mileage (Pandas): -3.97\n",
      "\n",
      "\n",
      "Correlation Results:\n",
      "Correlation between Price and Mileage (Manual): -0.77\n",
      "Correlation between Price and Mileage (Pandas): -0.77\n",
      "\n",
      "\n"
     ]
    }
   ],
   "source": [
    "import pandas as pd\n",
    "import numpy as np\n",
    "\n",
    "df = pd.read_excel('CarM.xlsx',sheet_name=\"carM\")\n",
    "\n",
    "print(df)\n",
    "print(\"\\n\")\n",
    "\n",
    "x_price = df['Price']\n",
    "y_mileage = df['Mileage']\n",
    "\n",
    "def calculate_covariance(x, y):\n",
    "    x_mean = np.mean(x)\n",
    "    y_mean = np.mean(y)\n",
    "    covariance = sum((x - x_mean) * (y - y_mean)) / (len(x) - 1)\n",
    "    return covariance\n",
    "\n",
    "def calculate_correlation(x, y):\n",
    "    covariance = calculate_covariance(x, y)\n",
    "    std_x = np.std(x, ddof=1)\n",
    "    std_y = np.std(y, ddof=1)\n",
    "    correlation = covariance / (std_x * std_y)\n",
    "    return correlation\n",
    "\n",
    "cov_price_mileage_manual = calculate_covariance(x_price, y_mileage)\n",
    "corr_price_mileage_manual = calculate_correlation(x_price, y_mileage)\n",
    "\n",
    "cov_matrix = df.cov(numeric_only=True)\n",
    "corr_matrix = df.corr(numeric_only=True)\n",
    "\n",
    "cov_price_mileage_pandas = cov_matrix.loc['Price', 'Mileage']\n",
    "corr_price_mileage_pandas = corr_matrix.loc['Price', 'Mileage']\n",
    "\n",
    "print(\"Covariance Results:\")\n",
    "print(f\"Covariance between Price and Mileage (Manual): {cov_price_mileage_manual:.2f}\")\n",
    "print(f\"Covariance between Price and Mileage (Pandas): {cov_price_mileage_pandas:.2f}\")\n",
    "print(\"\\n\")\n",
    "\n",
    "print(\"Correlation Results:\")\n",
    "print(f\"Correlation between Price and Mileage (Manual): {corr_price_mileage_manual:.2f}\")\n",
    "print(f\"Correlation between Price and Mileage (Pandas): {corr_price_mileage_pandas:.2f}\")\n",
    "print(\"\\n\")\n"
   ]
  },
  {
   "cell_type": "code",
   "execution_count": 20,
   "metadata": {
    "colab": {
     "base_uri": "https://localhost:8080/"
    },
    "id": "0I9-BVEoO5Ct",
    "outputId": "c48ac6fb-dc2b-4fec-f258-b65cefc94e6b"
   },
   "outputs": [
    {
     "name": "stdout",
     "output_type": "stream",
     "text": [
      "Original Dataset:\n",
      "      Price  Mileage  Sales\n",
      "0   20000.0     15.0  250.0\n",
      "1   18000.0     18.0  230.0\n",
      "2   25000.0      NaN  210.0\n",
      "3       NaN     16.0  240.0\n",
      "4   30000.0     10.0  200.0\n",
      "5   15000.0      NaN    NaN\n",
      "6       NaN     17.0  260.0\n",
      "7   19000.0     14.0  220.0\n",
      "8   28000.0     11.0  190.0\n",
      "9   22000.0     19.0  250.0\n",
      "10  30000.0      NaN  180.0\n",
      "11      NaN     13.0  210.0\n",
      "\n",
      "\n",
      "Checking for Missing Values:\n",
      "Price      3\n",
      "Mileage    3\n",
      "Sales      1\n",
      "dtype: int64\n",
      "\n",
      "\n",
      "Dataset After Dropping Missing Values:\n",
      "     Price  Mileage  Sales\n",
      "0  20000.0     15.0  250.0\n",
      "1  18000.0     18.0  230.0\n",
      "4  30000.0     10.0  200.0\n",
      "7  19000.0     14.0  220.0\n",
      "8  28000.0     11.0  190.0\n",
      "9  22000.0     19.0  250.0\n",
      "\n",
      "\n",
      "Dataset After Filling Missing Values with Median:\n",
      "      Price  Mileage  Sales\n",
      "0   20000.0     15.0  250.0\n",
      "1   18000.0     18.0  230.0\n",
      "2   25000.0     15.0  210.0\n",
      "3   22000.0     16.0  240.0\n",
      "4   30000.0     10.0  200.0\n",
      "5   15000.0     15.0  220.0\n",
      "6   22000.0     17.0  260.0\n",
      "7   19000.0     14.0  220.0\n",
      "8   28000.0     11.0  190.0\n",
      "9   22000.0     19.0  250.0\n",
      "10  30000.0     15.0  180.0\n",
      "11  22000.0     13.0  210.0\n",
      "\n",
      "\n",
      "Dataset After Filling Missing Values with Mean:\n",
      "       Price Mileage   Sales\n",
      "0   20000.00   15.00  250.00\n",
      "1   18000.00   18.00  230.00\n",
      "2   25000.00   14.78  210.00\n",
      "3   23000.00   16.00  240.00\n",
      "4   30000.00   10.00  200.00\n",
      "5   15000.00   14.78  221.82\n",
      "6   23000.00   17.00  260.00\n",
      "7   19000.00   14.00  220.00\n",
      "8   28000.00   11.00  190.00\n",
      "9   22000.00   19.00  250.00\n",
      "10  30000.00   14.78  180.00\n",
      "11  23000.00   13.00  210.00\n",
      "\n",
      "\n",
      "Dataset After Filling Missing Values with Constant (0):\n",
      "      Price  Mileage  Sales\n",
      "0   20000.0     15.0  250.0\n",
      "1   18000.0     18.0  230.0\n",
      "2   25000.0      0.0  210.0\n",
      "3       0.0     16.0  240.0\n",
      "4   30000.0     10.0  200.0\n",
      "5   15000.0      0.0    0.0\n",
      "6       0.0     17.0  260.0\n",
      "7   19000.0     14.0  220.0\n",
      "8   28000.0     11.0  190.0\n",
      "9   22000.0     19.0  250.0\n",
      "10  30000.0      0.0  180.0\n",
      "11      0.0     13.0  210.0\n",
      "\n",
      "\n",
      "Dataset After Forward Filling Missing Values:\n",
      "      Price  Mileage  Sales\n",
      "0   20000.0     15.0  250.0\n",
      "1   18000.0     18.0  230.0\n",
      "2   25000.0     18.0  210.0\n",
      "3   25000.0     16.0  240.0\n",
      "4   30000.0     10.0  200.0\n",
      "5   15000.0     10.0  200.0\n",
      "6   15000.0     17.0  260.0\n",
      "7   19000.0     14.0  220.0\n",
      "8   28000.0     11.0  190.0\n",
      "9   22000.0     19.0  250.0\n",
      "10  30000.0     19.0  180.0\n",
      "11  30000.0     13.0  210.0\n",
      "\n",
      "\n"
     ]
    }
   ],
   "source": [
    "# handling missing values\n",
    "\n",
    "import pandas as pd\n",
    "\n",
    "# Load the dataset from 'miss.csv'\n",
    "df = pd.read_excel('carM.xlsx',sheet_name=\"miss\")\n",
    "\n",
    "# Print the original dataset\n",
    "print(\"Original Dataset:\")\n",
    "print(df)\n",
    "print(\"\\n\")\n",
    "\n",
    "# 1. Checking for missing values\n",
    "print(\"Checking for Missing Values:\")\n",
    "print(df.isnull().sum())\n",
    "print(\"\\n\")\n",
    "\n",
    "# 2. Dropping missing values\n",
    "df_dropped = df.dropna()\n",
    "print(\"Dataset After Dropping Missing Values:\")\n",
    "print(df_dropped)\n",
    "print(\"\\n\")\n",
    "\n",
    "# 3. Filling with Median \n",
    "df_filled_median = df.fillna(df.median(numeric_only=True))\n",
    "print(\"Dataset After Filling Missing Values with Median:\")\n",
    "print(df_filled_median)\n",
    "print(\"\\n\")\n",
    "\n",
    "# 4. Filling with Mean \n",
    "df_filled_mean = df.fillna(df.mean(numeric_only=True))\n",
    "df_filled_mean = df_filled_mean.applymap(lambda x: f\"{x:.2f}\")\n",
    "print(\"Dataset After Filling Missing Values with Mean:\")\n",
    "print(df_filled_mean)\n",
    "print(\"\\n\")\n",
    "\n",
    "# 5. with  constant (e.g., 0)\n",
    "df_filled_constant = df.fillna(0)\n",
    "print(\"Dataset After Filling Missing Values with Constant (0):\")\n",
    "print(df_filled_constant)\n",
    "print(\"\\n\")\n",
    "\n",
    "# 6. Forward Fill\n",
    "df_forward_fill = df.ffill()\n",
    "print(\"Dataset After Forward Filling Missing Values:\")\n",
    "print(df_forward_fill)\n",
    "print(\"\\n\")\n",
    "\n",
    "\n",
    "\n"
   ]
  },
  {
   "cell_type": "code",
   "execution_count": null,
   "metadata": {},
   "outputs": [],
   "source": []
  }
 ],
 "metadata": {
  "colab": {
   "provenance": []
  },
  "kernelspec": {
   "display_name": "Python 3 (ipykernel)",
   "language": "python",
   "name": "python3"
  },
  "language_info": {
   "codemirror_mode": {
    "name": "ipython",
    "version": 3
   },
   "file_extension": ".py",
   "mimetype": "text/x-python",
   "name": "python",
   "nbconvert_exporter": "python",
   "pygments_lexer": "ipython3",
   "version": "3.11.5"
  }
 },
 "nbformat": 4,
 "nbformat_minor": 1
}
