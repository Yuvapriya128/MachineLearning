{
 "cells": [
  {
   "cell_type": "code",
   "execution_count": 2,
   "id": "ce5e6bb4",
   "metadata": {},
   "outputs": [
    {
     "name": "stdout",
     "output_type": "stream",
     "text": [
      "20\n",
      "-10\n",
      "75\n",
      "0.3333333333333333\n",
      "30517578125\n",
      "0\n",
      "-6\n",
      "5\n",
      "5\n"
     ]
    }
   ],
   "source": [
    "#Write a python program that illustrates the usage of various operators\n",
    "a=5\n",
    "b=15\n",
    "print(a+b)\n",
    "print(a-b)\n",
    "print(a*b)\n",
    "print(a/b)\n",
    "print(a**b)\n",
    "print(a//b)\n",
    "print(~a)\n",
    "print(++a)\n",
    "print(a%b)\n"
   ]
  },
  {
   "cell_type": "code",
   "execution_count": 3,
   "id": "a374d419",
   "metadata": {},
   "outputs": [
    {
     "name": "stdout",
     "output_type": "stream",
     "text": [
      "not eligible\n"
     ]
    }
   ],
   "source": [
    "#flowcontrol-if\n",
    "age=15\n",
    "if(age>18):\n",
    "    print(\"eligible\")\n",
    "elif(age<18):\n",
    "    print(\"not eligible\")\n",
    "else:\n",
    "    print(\"invalid\")"
   ]
  },
  {
   "cell_type": "code",
   "execution_count": 19,
   "id": "b7392080",
   "metadata": {},
   "outputs": [
    {
     "name": "stdout",
     "output_type": "stream",
     "text": [
      "monday\n",
      "friday\n",
      "5\n",
      "<class 'list'>\n",
      "['monday', 'tuesday', 'wednesday', 'thursday']\n"
     ]
    }
   ],
   "source": [
    "#Write a python code to create a list of names of employees and display first item and last item of the list.Print \n",
    "#length and type of the list.\n",
    "emp=[\"monday\",\"tuesday\",\"wednesday\",\"thursday\",\"friday\"]\n",
    "print(emp[0])\n",
    "print(emp[-1])\n",
    "print(len(emp))\n",
    "print(type(emp))\n",
    "print(emp[0:4])"
   ]
  },
  {
   "cell_type": "code",
   "execution_count": 15,
   "id": "88a21bbf",
   "metadata": {},
   "outputs": [
    {
     "name": "stdout",
     "output_type": "stream",
     "text": [
      "0\n",
      "1\n",
      "2\n",
      "3\n",
      "4\n",
      "5\n",
      "6\n",
      "7\n",
      "8\n",
      "9\n"
     ]
    }
   ],
   "source": [
    "#flowcontrol-for\n",
    "n=10\n",
    "\n",
    "for i in range(n):\n",
    "  print(i)\n",
    "  "
   ]
  },
  {
   "cell_type": "code",
   "execution_count": 18,
   "id": "cdfe2374",
   "metadata": {},
   "outputs": [
    {
     "name": "stdout",
     "output_type": "stream",
     "text": [
      "n is 4\n",
      "n is 3\n",
      "n is 2\n",
      "n is 1\n"
     ]
    }
   ],
   "source": [
    "#flowcontrol-while\n",
    "n=4\n",
    "while n>0:\n",
    "    print(f\"n is {n}\")\n",
    "    n=n-1"
   ]
  },
  {
   "cell_type": "code",
   "execution_count": 24,
   "id": "aae90987",
   "metadata": {},
   "outputs": [
    {
     "name": "stdout",
     "output_type": "stream",
     "text": [
      "['john', 4]\n",
      "<class 'list'>\n",
      "{1, 2, 3}\n",
      "<class 'set'>\n",
      "('john', 40)\n",
      "<class 'tuple'>\n",
      "{'name': 'john', 'age': 40}\n",
      "<class 'dict'>\n"
     ]
    }
   ],
   "source": [
    "#Give an example to display the difference between list, dictionary and tuple.\n",
    "list=[\"john\",4]\n",
    "set={1,2,3}\n",
    "tup=(\"john\",40)\n",
    "dict={\"name\":\"john\",\"age\":40}\n",
    "print(list)\n",
    "print(type(list))\n",
    "print(set)\n",
    "print(type(set))\n",
    "print(tup)\n",
    "print(type(tup))\n",
    "print(dict)\n",
    "print(type(dict))"
   ]
  },
  {
   "cell_type": "code",
   "execution_count": 23,
   "id": "a8ddfea4",
   "metadata": {},
   "outputs": [
    {
     "name": "stdout",
     "output_type": "stream",
     "text": [
      "1 2 \n",
      "3 5 \n"
     ]
    }
   ],
   "source": [
    "#create a multi dimensional list and display list elements\n",
    "matrix=[\n",
    "    [1,2],\n",
    "    [3,5]\n",
    "]\n",
    "for i in matrix:\n",
    "    for el in i:\n",
    "        print(el,end=\" \")\n",
    "    print()\n",
    "    "
   ]
  },
  {
   "cell_type": "code",
   "execution_count": null,
   "id": "72426eeb",
   "metadata": {},
   "outputs": [],
   "source": [
    "#face value,place, place value\n",
    "a=int(input(\"Enter a number\"))\n",
    "b=int(input(\"Enter digit\"))\n",
    "temp=a\n",
    "i=1\n",
    "print(f\"face value {b}\")\n",
    "while(a>0):\n",
    "    t2=a%10\n",
    "    if(t2==b):\n",
    "        print(f\"place value {t2*i}\")\n",
    "    i*=10\n",
    "    a//=10\n",
    "    "
   ]
  },
  {
   "cell_type": "code",
   "execution_count": null,
   "id": "34d0c6be",
   "metadata": {},
   "outputs": [],
   "source": [
    "#face value,place, place value\n",
    "a=int(input(\"Enter a number\"))\n",
    "b=int(input(\"Enter digit\"))\n",
    "temp=a\n",
    "i=1\n",
    "print(f\"face value {b}\")\n",
    "while(a>0):\n",
    "    t2=a%10\n",
    "    if(t2==b):\n",
    "        print(f\"place value {t2*i}\")\n",
    "    i*=10\n",
    "    a//=10\n",
    "    "
   ]
  },
  {
   "cell_type": "code",
   "execution_count": null,
   "id": "36fb11d5",
   "metadata": {},
   "outputs": [],
   "source": [
    "a=6\n",
    "print(a)"
   ]
  },
  {
   "cell_type": "code",
   "execution_count": null,
   "id": "9f508ace",
   "metadata": {},
   "outputs": [],
   "source": []
  }
 ],
 "metadata": {
  "kernelspec": {
   "display_name": "Python 3 (ipykernel)",
   "language": "python",
   "name": "python3"
  },
  "language_info": {
   "codemirror_mode": {
    "name": "ipython",
    "version": 3
   },
   "file_extension": ".py",
   "mimetype": "text/x-python",
   "name": "python",
   "nbconvert_exporter": "python",
   "pygments_lexer": "ipython3",
   "version": "3.11.5"
  }
 },
 "nbformat": 4,
 "nbformat_minor": 5
}
