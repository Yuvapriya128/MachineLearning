{
 "cells": [
  {
   "cell_type": "code",
   "execution_count": 1,
   "id": "7c157055",
   "metadata": {},
   "outputs": [],
   "source": [
    "import pandas as pd"
   ]
  },
  {
   "cell_type": "code",
   "execution_count": 49,
   "id": "edcd1e42",
   "metadata": {},
   "outputs": [],
   "source": [
    "#To read the content in excel file to the data frame\n",
    "df=pd.read_excel('Book1.xlsx')"
   ]
  },
  {
   "cell_type": "code",
   "execution_count": 50,
   "id": "fb513980",
   "metadata": {},
   "outputs": [],
   "source": [
    "#To read the content in CSV file to the data frame\n",
    "df2=pd.read_csv('fileCSV.csv')"
   ]
  },
  {
   "cell_type": "code",
   "execution_count": 51,
   "id": "62d57d7b",
   "metadata": {},
   "outputs": [
    {
     "name": "stdout",
     "output_type": "stream",
     "text": [
      "   NO.           Name  Levels\n",
      "0    1  Sarah Johnson       1\n",
      "1    2  Michael Brown       3\n",
      "2    3    Emma Wilson       1\n",
      "3    4      James Lee       3\n",
      "4    5  Olivia Harris       2\n",
      "     Year Industry_aggregation_NZSIOC Industry_name_NZSIOC  \\\n",
      "0  2023.0                     Level 1       All industries   \n",
      "1  2023.0                     Level 1       All industries   \n",
      "2  2023.0                     Level 1       All industries   \n",
      "3  2023.0                     Level 1       All industries   \n",
      "4  2023.0                     Level 1       All industries   \n",
      "\n",
      "                Units Variable_code  \\\n",
      "0  Dollars (millions)           H01   \n",
      "1  Dollars (millions)           H04   \n",
      "2  Dollars (millions)           H05   \n",
      "3  Dollars (millions)           H07   \n",
      "4  Dollars (millions)           H08   \n",
      "\n",
      "                                     Variable_name      Variable_category  \\\n",
      "0                                     Total income  Financial performance   \n",
      "1  Sales, government funding, grants and subsidies  Financial performance   \n",
      "2                Interest, dividends and donations  Financial performance   \n",
      "3                             Non-operating income  Financial performance   \n",
      "4                                Total expenditure  Financial performance   \n",
      "\n",
      "      Value  \n",
      "0  930995.0  \n",
      "1  821630.0  \n",
      "2   84354.0  \n",
      "3   25010.0  \n",
      "4  832964.0  \n"
     ]
    }
   ],
   "source": [
    "#The code to print first five rows in the dataframe\n",
    "print(df.head())\n",
    "print(df2.head())"
   ]
  },
  {
   "cell_type": "code",
   "execution_count": 52,
   "id": "298422b0",
   "metadata": {},
   "outputs": [
    {
     "name": "stdout",
     "output_type": "stream",
     "text": [
      "    NO.            Name  Levels\n",
      "45   46    Jacob Carter       1\n",
      "46   47   Ruby Mitchell       3\n",
      "47   48    Thomas Davis       1\n",
      "48   49  Stella Jackson       3\n",
      "49   50             Law       1\n",
      "       Year Industry_aggregation_NZSIOC Industry_name_NZSIOC Units  \\\n",
      "50974   NaN                         NaN                  NaN   NaN   \n",
      "50975   NaN                         NaN                  NaN   NaN   \n",
      "50976   NaN                         NaN                  NaN   NaN   \n",
      "50977   NaN                         NaN                  NaN   NaN   \n",
      "50978   NaN                         NaN                  NaN   NaN   \n",
      "\n",
      "      Variable_code Variable_name Variable_category  Value  \n",
      "50974           NaN           NaN               NaN    NaN  \n",
      "50975           NaN           NaN               NaN    NaN  \n",
      "50976           NaN           NaN               NaN    NaN  \n",
      "50977           NaN           NaN               NaN    NaN  \n",
      "50978           NaN           NaN               NaN    NaN  \n"
     ]
    }
   ],
   "source": [
    "#The code to print last five rows in the dataframe\n",
    "print(df.tail())\n",
    "print(df2.tail())"
   ]
  },
  {
   "cell_type": "code",
   "execution_count": 53,
   "id": "b1c72465",
   "metadata": {},
   "outputs": [
    {
     "name": "stdout",
     "output_type": "stream",
     "text": [
      "   NO.           Name  Levels\n",
      "0    1  Sarah Johnson       1\n",
      "1    2  Michael Brown       3\n",
      "2    3    Emma Wilson       1\n",
      "     Year Industry_aggregation_NZSIOC Industry_name_NZSIOC  \\\n",
      "0  2023.0                     Level 1       All industries   \n",
      "1  2023.0                     Level 1       All industries   \n",
      "2  2023.0                     Level 1       All industries   \n",
      "\n",
      "                Units Variable_code  \\\n",
      "0  Dollars (millions)           H01   \n",
      "1  Dollars (millions)           H04   \n",
      "2  Dollars (millions)           H05   \n",
      "\n",
      "                                     Variable_name      Variable_category  \\\n",
      "0                                     Total income  Financial performance   \n",
      "1  Sales, government funding, grants and subsidies  Financial performance   \n",
      "2                Interest, dividends and donations  Financial performance   \n",
      "\n",
      "      Value  \n",
      "0  930995.0  \n",
      "1  821630.0  \n",
      "2   84354.0  \n"
     ]
    }
   ],
   "source": [
    "#The code to print first three rows in the dataframe\n",
    "print(df.head(3))\n",
    "print(df2.head(3))"
   ]
  },
  {
   "cell_type": "code",
   "execution_count": 54,
   "id": "59184083",
   "metadata": {},
   "outputs": [
    {
     "name": "stdout",
     "output_type": "stream",
     "text": [
      "    NO.            Name  Levels\n",
      "47   48    Thomas Davis       1\n",
      "48   49  Stella Jackson       3\n",
      "49   50             Law       1\n",
      "       Year Industry_aggregation_NZSIOC Industry_name_NZSIOC Units  \\\n",
      "50976   NaN                         NaN                  NaN   NaN   \n",
      "50977   NaN                         NaN                  NaN   NaN   \n",
      "50978   NaN                         NaN                  NaN   NaN   \n",
      "\n",
      "      Variable_code Variable_name Variable_category  Value  \n",
      "50976           NaN           NaN               NaN    NaN  \n",
      "50977           NaN           NaN               NaN    NaN  \n",
      "50978           NaN           NaN               NaN    NaN  \n"
     ]
    }
   ],
   "source": [
    "#The code to print last three rows in the dataframe\n",
    "print(df.tail(3))\n",
    "print(df2.tail(3))"
   ]
  },
  {
   "cell_type": "code",
   "execution_count": 68,
   "id": "f8be986b",
   "metadata": {},
   "outputs": [
    {
     "name": "stdout",
     "output_type": "stream",
     "text": [
      "<class 'pandas.core.frame.DataFrame'>\n",
      "RangeIndex: 50 entries, 0 to 49\n",
      "Data columns (total 3 columns):\n",
      " #   Column  Non-Null Count  Dtype \n",
      "---  ------  --------------  ----- \n",
      " 0   NO.     50 non-null     int64 \n",
      " 1   Name    50 non-null     object\n",
      " 2   Levels  50 non-null     int64 \n",
      "dtypes: int64(2), object(1)\n",
      "memory usage: 1.3+ KB\n",
      "None\n",
      "\n",
      "<class 'pandas.core.frame.DataFrame'>\n",
      "RangeIndex: 50979 entries, 0 to 50978\n",
      "Data columns (total 8 columns):\n",
      " #   Column                       Non-Null Count  Dtype  \n",
      "---  ------                       --------------  -----  \n",
      " 0   Year                         39 non-null     float64\n",
      " 1   Industry_aggregation_NZSIOC  39 non-null     object \n",
      " 2   Industry_name_NZSIOC         39 non-null     object \n",
      " 3   Units                        39 non-null     object \n",
      " 4   Variable_code                39 non-null     object \n",
      " 5   Variable_name                39 non-null     object \n",
      " 6   Variable_category            39 non-null     object \n",
      " 7   Value                        39 non-null     float64\n",
      "dtypes: float64(2), object(6)\n",
      "memory usage: 3.1+ MB\n",
      "None\n",
      "\n",
      "\n",
      "            NO.     Levels\n",
      "count  50.00000  50.000000\n",
      "mean   25.50000   1.980000\n",
      "std    14.57738   0.820403\n",
      "min     1.00000   1.000000\n",
      "25%    13.25000   1.000000\n",
      "50%    25.50000   2.000000\n",
      "75%    37.75000   3.000000\n",
      "max    50.00000   3.000000\n",
      "\n",
      "         Year         Value\n",
      "count    39.0  3.900000e+01\n",
      "mean   2023.0  4.053601e+05\n",
      "std       0.0  6.892605e+05\n",
      "min    2023.0  4.000000e+00\n",
      "25%    2023.0  1.860000e+03\n",
      "50%    2023.0  5.446200e+04\n",
      "75%    2023.0  7.408405e+05\n",
      "max    2023.0  2.831894e+06\n"
     ]
    }
   ],
   "source": [
    "#The method to print the summary of data and what attributes will be displayed\n",
    "print(df.info())\n",
    "print()\n",
    "print(df2.info())\n",
    "print()\n",
    "print()\n",
    "#Attributes printed using describe():\n",
    "print(df.describe())\n",
    "print()\n",
    "print(df2.describe())"
   ]
  },
  {
   "cell_type": "code",
   "execution_count": 72,
   "id": "a28acbd3",
   "metadata": {},
   "outputs": [
    {
     "name": "stdout",
     "output_type": "stream",
     "text": [
      "       Industry_aggregation_NZSIOC\n",
      "count                           39\n",
      "unique                           1\n",
      "top                        Level 1\n",
      "freq                            39\n"
     ]
    }
   ],
   "source": [
    "#To print summary of categorical values\n",
    "df2['Industry_aggregation_NZSIOC']=df2['Industry_aggregation_NZSIOC'].astype('category')\n",
    "print(df2.describe(include=['category']))"
   ]
  },
  {
   "cell_type": "code",
   "execution_count": 57,
   "id": "84067e7d",
   "metadata": {},
   "outputs": [
    {
     "name": "stdout",
     "output_type": "stream",
     "text": [
      "count          39\n",
      "unique          1\n",
      "top       Level 1\n",
      "freq           39\n",
      "Name: Industry_aggregation_NZSIOC, dtype: object\n"
     ]
    }
   ],
   "source": [
    "#To print categorical column values alone using describe method\n",
    "print(df2[\"Industry_aggregation_NZSIOC\"].describe())"
   ]
  },
  {
   "cell_type": "code",
   "execution_count": 58,
   "id": "6026bf6f",
   "metadata": {},
   "outputs": [
    {
     "name": "stdout",
     "output_type": "stream",
     "text": [
      "count                50\n",
      "unique               50\n",
      "top       Sarah Johnson\n",
      "freq                  1\n",
      "Name: Name, dtype: object\n"
     ]
    }
   ],
   "source": [
    "#To print the summary of single attribute using describe \n",
    "print(df[\"Name\"].describe())"
   ]
  },
  {
   "cell_type": "code",
   "execution_count": 85,
   "id": "eb68b111",
   "metadata": {},
   "outputs": [
    {
     "name": "stdout",
     "output_type": "stream",
     "text": [
      "NO.       50\n",
      "Name      50\n",
      "Levels     3\n",
      "dtype: int64\n",
      "Year                            1\n",
      "Industry_aggregation_NZSIOC     1\n",
      "Industry_name_NZSIOC            2\n",
      "Units                           3\n",
      "Variable_code                  32\n",
      "Variable_name                  33\n",
      "Variable_category               3\n",
      "Value                          39\n",
      "dtype: int64\n",
      "Year : [2023.   nan]\n",
      "Industry_aggregation_NZSIOC : ['Level 1', NaN]\n",
      "Categories (1, object): ['Level 1']\n",
      "Industry_name_NZSIOC : ['All industries' 'Agriculture, Forestry and Fishing' nan]\n",
      "Units : ['Dollars (millions)' 'Dollars' 'Percentage' nan]\n",
      "Variable_code : ['H01' 'H04' 'H05' 'H07' 'H08' 'H09' 'H10' 'H11' 'H12' 'H13' 'H14' 'H19'\n",
      " 'H20' 'H21' 'H22' 'H23' 'H24' 'H25' 'H26' 'H29' 'H30' 'H31' 'H32' 'H33'\n",
      " 'H34' 'H35' 'H36' 'H37' 'H39' 'H40' 'H41' 'H06' nan]\n",
      "Variable_name : ['Total income' 'Sales, government funding, grants and subsidies'\n",
      " 'Interest, dividends and donations' 'Non-operating income'\n",
      " 'Total expenditure' 'Interest and donations' 'Indirect taxes'\n",
      " 'Depreciation' 'Salaries and wages paid' 'Redundancy and severance'\n",
      " 'Salaries and wages to self employed commission agents'\n",
      " 'Purchases and other operating expenses' 'Non-operating expenses'\n",
      " 'Opening stocks' 'Closing stocks' 'Surplus before income tax'\n",
      " 'Total assets' 'Current assets' 'Fixed tangible assets' 'Other assets'\n",
      " 'Total equity and liabilities' 'Shareholders funds or owners equity'\n",
      " 'Current liabilities' 'Other liabilities'\n",
      " 'Total income per employee count' 'Surplus per employee count'\n",
      " 'Current ratio' 'Quick ratio' 'Return on equity' 'Return on total assets'\n",
      " 'Liabilities structure' 'Sales of goods and services'\n",
      " 'Government funding, grants and subsidies' nan]\n",
      "Variable_category : ['Financial performance' 'Financial position' 'Financial ratios' nan]\n",
      "Value : [9.309950e+05 8.216300e+05 8.435400e+04 2.501000e+04 8.329640e+05\n",
      " 5.526700e+04 7.426000e+03 3.081400e+04 1.476630e+05 2.690000e+02\n",
      " 1.639000e+03 5.669790e+05 2.317600e+04 8.077800e+04 8.819700e+04\n",
      " 1.054500e+05 2.831894e+06 8.612550e+05 6.818900e+05 1.288749e+06\n",
      " 2.831893e+06 9.574100e+05 1.074693e+06 7.997910e+05 4.646000e+05\n",
      " 5.260000e+04 8.000000e+01 7.200000e+01 1.100000e+01 4.000000e+00\n",
      " 3.400000e+01 5.446200e+04 5.147200e+04 8.930000e+02 1.500000e+01\n",
      " 2.081000e+03 4.837700e+04 3.641000e+03 5.170000e+02          nan]\n"
     ]
    }
   ],
   "source": [
    "#The method to print distinct observations for each attribute\n",
    "print(df.nunique())\n",
    "print(df2.nunique())\n",
    "\n",
    "for c in df2.columns:\n",
    "    print(f\"{c} : {df2[c].unique()}\")"
   ]
  },
  {
   "cell_type": "code",
   "execution_count": 76,
   "id": "bd7f3e2a",
   "metadata": {},
   "outputs": [
    {
     "name": "stdout",
     "output_type": "stream",
     "text": [
      "['Alexander Carter' 'Amelia Adams' 'Aria Taylor' 'Ava Martinez'\n",
      " 'Benjamin Young' 'Charlotte King' 'Chloe Mitchell' 'Christopher Adams'\n",
      " 'Daniel Walker' 'David Clark' 'Elijah Harris' 'Ella Robinson'\n",
      " 'Ella Thomas' 'Emily Lewis' 'Emma Wilson' 'Ethan Davis' 'Grace Lewis'\n",
      " 'Harper Allen' 'Henry Lewis' 'Isaac Lee' 'Isabella Green' 'Jack Walker'\n",
      " 'Jack White' 'Jacob Carter' 'James Lee' 'Law' 'Leo Anderson'\n",
      " 'Lily Thomas' 'Lily Young' 'Lucas King' 'Madison Clark' 'Mason Scott'\n",
      " 'Matthew Hill' 'Mia Robinson' 'Michael Brown' 'Natalie Turner'\n",
      " 'Noah Jackson' 'Oliver Wright' 'Olivia Harris' 'Ruby Mitchell'\n",
      " 'Ryan Anderson' 'Samuel Moore' 'Sarah Johnson' 'Scarlett Allen'\n",
      " 'Sophia Scott' 'Stella Jackson' 'Thomas Davis' 'Victoria Martinez'\n",
      " 'William White' 'Zoey Hall']\n",
      "[2023.   nan]\n"
     ]
    }
   ],
   "source": [
    "#The method to print unique values of a column in ascending order\n",
    "print(df[\"Name\"].sort_values().unique())\n",
    "print(df2[\"Year\"].sort_values().unique())"
   ]
  },
  {
   "cell_type": "code",
   "execution_count": 61,
   "id": "ac35193d",
   "metadata": {},
   "outputs": [
    {
     "name": "stdout",
     "output_type": "stream",
     "text": [
      "                    Year                                                       \\\n",
      "                   count    mean  std     min     25%     50%     75%     max   \n",
      "Units                                                                           \n",
      "Dollars              2.0  2023.0  0.0  2023.0  2023.0  2023.0  2023.0  2023.0   \n",
      "Dollars (millions)  32.0  2023.0  0.0  2023.0  2023.0  2023.0  2023.0  2023.0   \n",
      "Percentage           5.0  2023.0  0.0  2023.0  2023.0  2023.0  2023.0  2023.0   \n",
      "\n",
      "                   Value                                                \\\n",
      "                   count        mean            std      min       25%   \n",
      "Units                                                                    \n",
      "Dollars              2.0  258600.000  291327.993849  52600.0  155600.0   \n",
      "Dollars (millions)  32.0  477863.875  739124.464963     15.0   19238.5   \n",
      "Percentage           5.0      40.200      34.629467      4.0      11.0   \n",
      "\n",
      "                                                   \n",
      "                         50%       75%        max  \n",
      "Units                                              \n",
      "Dollars             258600.0  361600.0   464600.0  \n",
      "Dollars (millions)   82566.0  824463.5  2831894.0  \n",
      "Percentage              34.0      72.0       80.0  \n"
     ]
    }
   ],
   "source": [
    "#To print the summary of a column by grouping the data\n",
    "print(df2.groupby(\"Units\").describe())"
   ]
  },
  {
   "cell_type": "code",
   "execution_count": 90,
   "id": "eed207fb",
   "metadata": {
    "scrolled": true
   },
   "outputs": [
    {
     "name": "stdout",
     "output_type": "stream",
     "text": [
      "3\n",
      "Units\n",
      "Dollars                2\n",
      "Dollars (millions)    32\n",
      "Percentage             5\n",
      "dtype: int64\n",
      "Group 1 (Dollars):\n",
      "Row indices: [24, 25]\n",
      "\n",
      "Group 2 (Dollars (millions)):\n",
      "Row indices: [0, 1, 2, 3, 4, 5, 6, 7, 8, 9, 10, 11, 12, 13, 14, 15, 16, 17, 18, 19, 20, 21, 22, 23, 31, 32, 33, 34, 35, 36, 37, 38]\n",
      "\n",
      "Group 3 (Percentage):\n",
      "Row indices: [26, 27, 28, 29, 30]\n",
      "\n",
      "Total number of groups: 3\n"
     ]
    }
   ],
   "source": [
    "#The code to print the number of groups created along with row number\n",
    "grouped=df2.groupby(\"Units\")\n",
    "print(len(grouped))\n",
    "print(grouped.size())\n",
    "\n",
    "for group_number, (group_name, group_data) in enumerate(grouped, 1):\n",
    "    print(f\"Group {group_number} ({group_name}):\")\n",
    "    print(\"Row indices:\", group_data.index.tolist())\n",
    "    print()\n",
    "\n",
    "\n",
    "print(\"Total number of groups:\", len(grouped))"
   ]
  },
  {
   "cell_type": "code",
   "execution_count": 63,
   "id": "8712d1e2",
   "metadata": {},
   "outputs": [
    {
     "name": "stdout",
     "output_type": "stream",
     "text": [
      "Units\n",
      "Dollars                2\n",
      "Dollars (millions)    32\n",
      "Percentage             5\n",
      "dtype: int64\n"
     ]
    }
   ],
   "source": [
    "#The method to print size of the group\n",
    "print(grouped.size())"
   ]
  },
  {
   "cell_type": "code",
   "execution_count": 86,
   "id": "f9ee0ea8",
   "metadata": {},
   "outputs": [
    {
     "name": "stdout",
     "output_type": "stream",
     "text": [
      "      Year Industry_aggregation_NZSIOC Industry_name_NZSIOC    Units  \\\n",
      "24  2023.0                     Level 1       All industries  Dollars   \n",
      "25  2023.0                     Level 1       All industries  Dollars   \n",
      "\n",
      "   Variable_code                    Variable_name Variable_category     Value  \n",
      "24           H34  Total income per employee count  Financial ratios  464600.0  \n",
      "25           H35       Surplus per employee count  Financial ratios   52600.0  \n"
     ]
    }
   ],
   "source": [
    "#The code to print particular group values\n",
    "print(grouped.get_group('Dollars'))"
   ]
  },
  {
   "cell_type": "code",
   "execution_count": 67,
   "id": "ae65659d",
   "metadata": {},
   "outputs": [
    {
     "name": "stdout",
     "output_type": "stream",
     "text": [
      "        NO.  Name\n",
      "Levels           \n",
      "1        17    17\n",
      "2        17    17\n",
      "3        16    16\n",
      "        NO.               Name\n",
      "Levels                        \n",
      "1        50      William White\n",
      "2        45  Victoria Martinez\n",
      "3        49          Zoey Hall\n",
      "        NO.              Name\n",
      "Levels                       \n",
      "1         1  Alexander Carter\n",
      "2         5    Benjamin Young\n",
      "3         2       David Clark\n"
     ]
    }
   ],
   "source": [
    "#The code to print count, max and min values of a group\n",
    "gr=df.groupby(\"Levels\")\n",
    "print(gr.count())\n",
    "print(gr.max())\n",
    "print(gr.min())"
   ]
  },
  {
   "cell_type": "code",
   "execution_count": null,
   "id": "a618c011",
   "metadata": {},
   "outputs": [],
   "source": []
  },
  {
   "cell_type": "code",
   "execution_count": null,
   "id": "d75a24a9",
   "metadata": {},
   "outputs": [],
   "source": []
  }
 ],
 "metadata": {
  "kernelspec": {
   "display_name": "Python 3 (ipykernel)",
   "language": "python",
   "name": "python3"
  },
  "language_info": {
   "codemirror_mode": {
    "name": "ipython",
    "version": 3
   },
   "file_extension": ".py",
   "mimetype": "text/x-python",
   "name": "python",
   "nbconvert_exporter": "python",
   "pygments_lexer": "ipython3",
   "version": "3.11.5"
  }
 },
 "nbformat": 4,
 "nbformat_minor": 5
}
