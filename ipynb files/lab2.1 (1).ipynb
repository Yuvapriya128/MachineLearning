{
 "cells": [
  {
   "cell_type": "code",
   "execution_count": 1,
   "id": "4a16da39",
   "metadata": {},
   "outputs": [],
   "source": [
    "import numpy as np\n"
   ]
  },
  {
   "cell_type": "code",
   "execution_count": 4,
   "id": "3a498355",
   "metadata": {},
   "outputs": [
    {
     "data": {
      "text/plain": [
       "array([[ 1,  2,  3],\n",
       "       [ 2, 34,  4],\n",
       "       [45,  7,  5]])"
      ]
     },
     "execution_count": 4,
     "metadata": {},
     "output_type": "execute_result"
    }
   ],
   "source": [
    "#To create an array with three rows and three columns\n",
    "arr=np.array([[1,2,3],[2,34,4],[45,7,5]])\n",
    "arr"
   ]
  },
  {
   "cell_type": "code",
   "execution_count": 6,
   "id": "e742f016",
   "metadata": {},
   "outputs": [
    {
     "data": {
      "text/plain": [
       "(3, 3)"
      ]
     },
     "execution_count": 6,
     "metadata": {},
     "output_type": "execute_result"
    }
   ],
   "source": [
    "#The code to print dimensions of the array \n",
    "arr.shape"
   ]
  },
  {
   "cell_type": "code",
   "execution_count": 7,
   "id": "4d9718da",
   "metadata": {},
   "outputs": [
    {
     "name": "stdout",
     "output_type": "stream",
     "text": [
      "[0. 0.]\n"
     ]
    },
    {
     "data": {
      "text/plain": [
       "array([[0., 0.],\n",
       "       [0., 0.]])"
      ]
     },
     "execution_count": 7,
     "metadata": {},
     "output_type": "execute_result"
    }
   ],
   "source": [
    "#Create a 1D and 2D array with default initialization of zeros\n",
    "a=np.zeros(2)\n",
    "ar=np.zeros((2,2))\n",
    "print(a)\n",
    "ar"
   ]
  },
  {
   "cell_type": "code",
   "execution_count": 9,
   "id": "3528c8c2",
   "metadata": {},
   "outputs": [
    {
     "data": {
      "text/plain": [
       "array([[1., 0., 0., 0., 0.],\n",
       "       [0., 1., 0., 0., 0.],\n",
       "       [0., 0., 1., 0., 0.],\n",
       "       [0., 0., 0., 1., 0.],\n",
       "       [0., 0., 0., 0., 1.]])"
      ]
     },
     "execution_count": 9,
     "metadata": {},
     "output_type": "execute_result"
    }
   ],
   "source": [
    "#To create an identity matrix with 5 rows and 5 columns\n",
    "id=np.eye(5)\n",
    "id"
   ]
  },
  {
   "cell_type": "code",
   "execution_count": 17,
   "id": "dcb1a3b0",
   "metadata": {},
   "outputs": [
    {
     "name": "stdout",
     "output_type": "stream",
     "text": [
      "[[ 1  2  3]\n",
      " [ 2 34  4]\n",
      " [45  7  5]]\n"
     ]
    },
    {
     "data": {
      "text/plain": [
       "2"
      ]
     },
     "execution_count": 17,
     "metadata": {},
     "output_type": "execute_result"
    }
   ],
   "source": [
    "#The code to retrieve second row first column value in a 3x3 matrix \n",
    "print(arr)\n",
    "arr[1,0]"
   ]
  },
  {
   "cell_type": "code",
   "execution_count": 11,
   "id": "3a41b323",
   "metadata": {},
   "outputs": [
    {
     "data": {
      "text/plain": [
       "array([ 2, 34,  4])"
      ]
     },
     "execution_count": 11,
     "metadata": {},
     "output_type": "execute_result"
    }
   ],
   "source": [
    "#The code to print all column values of second row in a 3x3 matrix \n",
    "arr[1,:]"
   ]
  },
  {
   "cell_type": "code",
   "execution_count": 13,
   "id": "479b4704",
   "metadata": {},
   "outputs": [
    {
     "data": {
      "text/plain": [
       "array([ 2, 34,  7])"
      ]
     },
     "execution_count": 13,
     "metadata": {},
     "output_type": "execute_result"
    }
   ],
   "source": [
    "#The code to retrieve all the values from second column in a 3x3 matix\n",
    "arr[:,1]"
   ]
  },
  {
   "cell_type": "code",
   "execution_count": 14,
   "id": "eaa03db3",
   "metadata": {},
   "outputs": [
    {
     "data": {
      "text/plain": [
       "array([3, 4, 5])"
      ]
     },
     "execution_count": 14,
     "metadata": {},
     "output_type": "execute_result"
    }
   ],
   "source": [
    "#to retrieve last column value in a 3x3 matrix \n",
    "arr[:,-1]"
   ]
  },
  {
   "cell_type": "code",
   "execution_count": 15,
   "id": "5b790da1",
   "metadata": {},
   "outputs": [
    {
     "data": {
      "text/plain": [
       "array([[ 2, 34,  4],\n",
       "       [45,  7,  5]])"
      ]
     },
     "execution_count": 15,
     "metadata": {},
     "output_type": "execute_result"
    }
   ],
   "source": [
    "#To retrieve all column values from second and third row in a 3x3 matrix \n",
    "arr[1:3,:]"
   ]
  },
  {
   "cell_type": "code",
   "execution_count": 29,
   "id": "6c896494",
   "metadata": {},
   "outputs": [
    {
     "data": {
      "text/plain": [
       "array([10, 11, 12, 13, 14, 15, 16, 17, 18, 19])"
      ]
     },
     "execution_count": 29,
     "metadata": {},
     "output_type": "execute_result"
    }
   ],
   "source": [
    "#To create an array with numbers specified in the range\n",
    "ar=np.arange(10,20)\n",
    "ar"
   ]
  },
  {
   "cell_type": "code",
   "execution_count": 30,
   "id": "bf47825b",
   "metadata": {},
   "outputs": [
    {
     "data": {
      "text/plain": [
       "array([10, 11, 12, 13, 14, 15, 16, 17, 18, 19])"
      ]
     },
     "execution_count": 30,
     "metadata": {},
     "output_type": "execute_result"
    }
   ],
   "source": [
    "#To find transpose of a matrix \n",
    "ar.T"
   ]
  },
  {
   "cell_type": "code",
   "execution_count": 38,
   "id": "21c1d56d",
   "metadata": {},
   "outputs": [
    {
     "name": "stdout",
     "output_type": "stream",
     "text": [
      "26.000000000000004\n"
     ]
    }
   ],
   "source": [
    "#To find determinant of a matrix\n",
    "ap=np.array([[10,2],[2,3]])\n",
    "print(det(ap))"
   ]
  },
  {
   "cell_type": "code",
   "execution_count": 40,
   "id": "0c074393",
   "metadata": {},
   "outputs": [
    {
     "name": "stdout",
     "output_type": "stream",
     "text": [
      "[ 1 34  5]\n"
     ]
    }
   ],
   "source": [
    "#To print diagonal elements of a matrix \n",
    "print(np.diag(arr))"
   ]
  },
  {
   "cell_type": "code",
   "execution_count": 45,
   "id": "44117c7c",
   "metadata": {},
   "outputs": [
    {
     "name": "stdout",
     "output_type": "stream",
     "text": [
      "add\n",
      "[[ 9  9]\n",
      " [ 9 13]]\n",
      "sub\n",
      "[[-7 -5]\n",
      " [-3 -5]]\n",
      "mul\n",
      "[[ 8 14]\n",
      " [18 36]]\n",
      "division\n",
      "[[0.125      0.28571429]\n",
      " [0.5        0.44444444]]\n"
     ]
    }
   ],
   "source": [
    "#Basic Matrix operations:\n",
    "x1=np.array([[1,2],[3,4]])\n",
    "x2=np.array([[8,7],[6,9]])\n",
    "print(\"add\")\n",
    "print(x1+x2)\n",
    "print(\"sub\")\n",
    "print(x1-x2)\n",
    "print(\"mul\")\n",
    "print(x1*x2)\n",
    "print(\"division\")\n",
    "print(x1/x2)"
   ]
  },
  {
   "cell_type": "code",
   "execution_count": 48,
   "id": "28daccd7",
   "metadata": {},
   "outputs": [
    {
     "data": {
      "text/plain": [
       "array([[23, 91, 49, 21, 75],\n",
       "       [55,  9, 20, 34, 17],\n",
       "       [82, 45, 21, 95, 58]])"
      ]
     },
     "execution_count": 48,
     "metadata": {},
     "output_type": "execute_result"
    }
   ],
   "source": [
    "#To create an array with random integer values of size (3,5) \n",
    "ar=np.random.randint(0,100,(3,5))\n",
    "ar"
   ]
  },
  {
   "cell_type": "code",
   "execution_count": 52,
   "id": "2931f1a0",
   "metadata": {},
   "outputs": [
    {
     "data": {
      "text/plain": [
       "array([0., 1., 2., 3., 4.])"
      ]
     },
     "execution_count": 52,
     "metadata": {},
     "output_type": "execute_result"
    }
   ],
   "source": [
    "#To create 1D array with 5 values of equal step size\n",
    "ar=np.linspace(0,4,5)\n",
    "ar\n"
   ]
  },
  {
   "cell_type": "code",
   "execution_count": 53,
   "id": "31f22fe8",
   "metadata": {},
   "outputs": [],
   "source": [
    "import matplotlib.pyplot as plt"
   ]
  },
  {
   "cell_type": "code",
   "execution_count": 61,
   "id": "2fb6ee7d",
   "metadata": {},
   "outputs": [
    {
     "data": {
      "image/png": "[encoded data removed]",
      "text/plain": [
       "<Figure size 900x300 with 2 Axes>"
      ]
     },
     "metadata": {},
     "output_type": "display_data"
    }
   ],
   "source": [
    "#Data for subplots\n",
    "temperature=[20, 25, 30, 35,40]\n",
    "icesales=[13, 21, 25, 35, 38]\n",
    "coffeesales=[45, 37, 28, 22,18]\n",
    "\n",
    "#Create Figure for subplots\n",
    "fig, ax=plt.subplots(nrows=1,ncols=2, figsize=(9,3))\n",
    "\n",
    "#Set title for subplots\n",
    "ax[0].set_title('a. Icecream Sales')\n",
    "ax[1].set_title('b. Coffee Sales')\n",
    "\n",
    "#Generate the subplots\n",
    "ax[0].plot(temperature, icesales, '-o',c='orange')\n",
    "ax[1].plot(temperature, coffeesales, '-*',c='red')\n",
    "\n",
    "#Set the Xlabel and Ylabel\n",
    "ax[0].set_xlabel('Temperature')\n",
    "ax[0].set_ylabel('Ice Sales (in litres)')\n",
    "ax[1].set_xlabel('Temperature')\n",
    "ax[1].set_ylabel('Coffee Sales (in litres)')\n",
    "\n",
    "fig.suptitle('SALES')\n",
    "plt.show()"
   ]
  },
  {
   "cell_type": "code",
   "execution_count": null,
   "id": "c0d73bab",
   "metadata": {},
   "outputs": [],
   "source": []
  }
 ],
 "metadata": {
  "kernelspec": {
   "display_name": "Python 3 (ipykernel)",
   "language": "python",
   "name": "python3"
  },
  "language_info": {
   "codemirror_mode": {
    "name": "ipython",
    "version": 3
   },
   "file_extension": ".py",
   "mimetype": "text/x-python",
   "name": "python",
   "nbconvert_exporter": "python",
   "pygments_lexer": "ipython3",
   "version": "3.11.5"
  }
 },
 "nbformat": 4,
 "nbformat_minor": 5
}
