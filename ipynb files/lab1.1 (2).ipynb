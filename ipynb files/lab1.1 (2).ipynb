{
 "cells": [
  {
   "cell_type": "code",
   "execution_count": 4,
   "id": "2e7f8eda",
   "metadata": {},
   "outputs": [
    {
     "name": "stdout",
     "output_type": "stream",
     "text": [
      "Enter a number 234\n",
      "Enter digit 2\n",
      "face value 2\n",
      "place value 200\n",
      "place is 3\n"
     ]
    }
   ],
   "source": [
    "#face value,place, place value\n",
    "a=int(input(\"Enter a number \"))\n",
    "b=int(input(\"Enter digit \"))\n",
    "temp=a\n",
    "i=1\n",
    "t=0\n",
    "print(f\"face value {b}\")\n",
    "while(a>0):\n",
    "    t2=a%10\n",
    "    if(t2==b):\n",
    "        print(f\"place value {t2*i}\")\n",
    "    i*=10\n",
    "    t+=1\n",
    "    a//=10\n",
    "print(f\"place is {t}\")"
   ]
  },
  {
   "cell_type": "code",
   "execution_count": 17,
   "id": "07442cc3",
   "metadata": {},
   "outputs": [
    {
     "name": "stdout",
     "output_type": "stream",
     "text": [
      "Enter a number 6\n",
      "* * * * * * \n",
      "  * * * * \n",
      "    * * \n",
      "      *\n"
     ]
    }
   ],
   "source": [
    "#pattern1\n",
    "n=int(input(\"Enter a number \"))\n",
    "def pat(n):\n",
    "    temp=n\n",
    "    t1=0\n",
    "    while temp>0:\n",
    "        for i in range(t1):\n",
    "            print(' ',end=' ')\n",
    "        for i in range(temp):\n",
    "            print('*',end=' ')\n",
    "        print()\n",
    "        temp-=2\n",
    "        t1+=1\n",
    "    for i in range(t1):\n",
    "        print(' ',end=' ')\n",
    "    print('*')\n",
    "pat(n)"
   ]
  },
  {
   "cell_type": "code",
   "execution_count": 11,
   "id": "648641cb",
   "metadata": {},
   "outputs": [
    {
     "name": "stdout",
     "output_type": "stream",
     "text": [
      "Enter a number 3\n",
      "    * *     \n",
      "* * * * * * \n",
      "    * *     \n",
      "* * * * * * \n",
      "    * *     \n"
     ]
    }
   ],
   "source": [
    "#pattern2\n",
    "n=int(input(\"Enter a number \"))\n",
    "temp=(n*(n-1))-1\n",
    "#print(temp)\n",
    "while temp>0:\n",
    "    if temp%2!=0:\n",
    "        for i in range(n-1):\n",
    "            print(' ',end=' ')\n",
    "        for i in range(n-1):\n",
    "            print('*',end=' ')\n",
    "        for i in range(n-1):\n",
    "            print(' ',end=' ')\n",
    "        print()\n",
    "    else:\n",
    "        for i in range(n-1):\n",
    "            print('*',end=' ')\n",
    "        for i in range(n-1):\n",
    "            print('*',end=' ')\n",
    "        for i in range(n-1):\n",
    "            print('*',end=' ')\n",
    "        print()   \n",
    "    temp-=1\n"
   ]
  },
  {
   "cell_type": "code",
   "execution_count": 12,
   "id": "41aa048a",
   "metadata": {},
   "outputs": [
    {
     "name": "stdout",
     "output_type": "stream",
     "text": [
      "[1, 2, 3, 2] - <class 'list'>\n",
      "[1, 2, 3, 2, 4]\n",
      "[]\n",
      "2\n",
      "1\n",
      "[1, 8, 2, 3, 2, 4]\n",
      "[1, 8, 2, 3, 2]\n",
      "[1, 8, 3, 2]\n",
      "[2, 3, 8, 1]\n",
      "[1, 2, 3, 8]\n"
     ]
    }
   ],
   "source": [
    "#list methods\n",
    "a=[1,2,3,2]\n",
    "print(f\"{a} - {type(a)}\")\n",
    "a.append(4)\n",
    "b=a.copy()\n",
    "print(b)\n",
    "a.clear()\n",
    "print(a)\n",
    "print(b.count(2))\n",
    "a.extend(b)\n",
    "print(a.index(2))\n",
    "a.insert(1,8)\n",
    "print(a)\n",
    "a.pop()\n",
    "print(a)\n",
    "a.remove(2)\n",
    "print(a)\n",
    "a.reverse()\n",
    "print(a)\n",
    "a.sort()\n",
    "print(a)\n"
   ]
  },
  {
   "cell_type": "code",
   "execution_count": 14,
   "id": "dcccec29",
   "metadata": {
    "scrolled": false
   },
   "outputs": [
    {
     "name": "stdout",
     "output_type": "stream",
     "text": [
      "Enter number of steps 3\n"
     ]
    },
    {
     "data": {
      "text/plain": [
       "4"
      ]
     },
     "execution_count": 14,
     "metadata": {},
     "output_type": "execute_result"
    }
   ],
   "source": [
    "#Write a python program that prints the number of ways a robot can take steps to climb a n staircase.\n",
    "#Assume that the robot can take 1 or 2 steps a time using function.\n",
    "n=int(input(\"Enter number of steps \"))\n",
    "\n",
    "def func(n):\n",
    "    if (n==0 or n==1):\n",
    "        return 1\n",
    "    prev=1\n",
    "    cur=1\n",
    "    for _ in range(2,n+1):\n",
    "        prev=cur\n",
    "        cur=prev+cur\n",
    "    return cur\n",
    "\n",
    "    "
   ]
  },
  {
   "cell_type": "code",
   "execution_count": null,
   "id": "3a18c89f",
   "metadata": {},
   "outputs": [],
   "source": []
  }
 ],
 "metadata": {
  "kernelspec": {
   "display_name": "Python 3 (ipykernel)",
   "language": "python",
   "name": "python3"
  },
  "language_info": {
   "codemirror_mode": {
    "name": "ipython",
    "version": 3
   },
   "file_extension": ".py",
   "mimetype": "text/x-python",
   "name": "python",
   "nbconvert_exporter": "python",
   "pygments_lexer": "ipython3",
   "version": "3.11.5"
  }
 },
 "nbformat": 4,
 "nbformat_minor": 5
}
